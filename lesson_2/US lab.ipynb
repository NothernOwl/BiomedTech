{
 "cells": [
  {
   "cell_type": "markdown",
   "id": "68d9d018",
   "metadata": {},
   "source": [
    "# Лаборатоная работа 2. Получение и анализ ультразвуковой записи."
   ]
  },
  {
   "cell_type": "code",
   "execution_count": 1,
   "id": "3143576d",
   "metadata": {},
   "outputs": [],
   "source": [
    "import numpy as np\n",
    "import matplotlib.pyplot as plt\n",
    "import cv2\n",
    "import os\n",
    "from IPython.display import display\n",
    "import ipywidgets as widgets\n",
    "from PIL import Image"
   ]
  },
  {
   "cell_type": "markdown",
   "id": "a2844b05",
   "metadata": {},
   "source": [
    "Для осуществления процедуры оцифровки полученных в ходе практической работы экспериментальных ультразвуковых записей в данной работе будет использоватся библиотека компьютерного зрения **cv2**. \n",
    "\n",
    "Ссылка на тестовый видеофай: https://disk.yandex.ru/i/TXyTJx-uznzFnQ\n",
    "Видеофайл должен лежать в папке с файлом."
   ]
  },
  {
   "cell_type": "code",
   "execution_count": 2,
   "id": "a42c8f17",
   "metadata": {},
   "outputs": [
    {
     "name": "stdout",
     "output_type": "stream",
     "text": [
      "Частота кадров:  60 кадров в секунду\n",
      "Всего кадров:  73260\n",
      "Длительность видео:  1221.0  секунд или  20.35  минут\n"
     ]
    }
   ],
   "source": [
    "# Анализ видеофайла с использованием библиотеки компьютерного зрения CV2\n",
    "# Функция VideoCapture принимает на вход имя видеофайла, находящегося в одной директории с программой\n",
    "\n",
    "us_video = cv2.VideoCapture('Сагайдачный2003.mkv')\n",
    "\n",
    "# Если имя файла указано верно, следуюший алгоритм вернёт информацию о количестве и частоте кадров\n",
    "\n",
    "if us_video.isOpened() == False:\n",
    "    print('Ошибка открытия файла')\n",
    "else:\n",
    "    fps = int(us_video.get(cv2.CAP_PROP_FPS))\n",
    "    print(\"Частота кадров: \", fps, \"кадров в секунду\") \n",
    "    frame_count = int(us_video.get(cv2.CAP_PROP_FRAME_COUNT))\n",
    "    print('Всего кадров: ', frame_count)\n",
    "    durat = frame_count/fps\n",
    "    print('Длительность видео: ', durat, ' секунд или ', durat/60, ' минут' )\n"
   ]
  },
  {
   "cell_type": "markdown",
   "id": "e5de3bd5",
   "metadata": {},
   "source": [
    "Процедура воспроизведения видеозаписи с использованием библиотеки компьютерного зрения\n",
    "Параметр file counter позволяет определить количество воспроизводимых кадров в цикле"
   ]
  },
  {
   "cell_type": "code",
   "execution_count": 3,
   "id": "d7585835",
   "metadata": {},
   "outputs": [],
   "source": [
    "file_count = 0\n",
    "while(us_video.isOpened()):\n",
    "            # Метод vid_capture.read() возвращают кортеж, первым элементом является логическое значение\n",
    "            # а вторым кадр\n",
    "    ret, frame = us_video.read()\n",
    "    # Данный цикл позволяет вывести 600 кадров видеозаписи, что при 60 к/с даёт нам 10 секунд\n",
    "    if ret == True and file_count <= 600:\n",
    "        cv2.imshow('Video', frame)\n",
    "        file_count += 1\n",
    "        key = cv2.waitKey(20)    \n",
    "        # Инициализация кнопок q и Esc (кодируется 27) для осуществления прерывания воспроизведения видеофайла\n",
    "        if (key == ord('q')) or key == 27:\n",
    "            break\n",
    "    else:\n",
    "            break\n",
    "\n",
    "# Освободить объекты\n",
    "us_video.release()\n",
    "cv2.destroyAllWindows()"
   ]
  },
  {
   "cell_type": "markdown",
   "id": "cc050d82",
   "metadata": {},
   "source": [
    "Сохранение интересующей нас видеозаписи как последовательность кадров"
   ]
  },
  {
   "cell_type": "code",
   "execution_count": 4,
   "id": "63e7c883",
   "metadata": {},
   "outputs": [],
   "source": [
    "def FrameSave(counter, pathName, vidName):\n",
    "    file_count = 0\n",
    "    us_video = cv2.VideoCapture(vidName)\n",
    "    try:\n",
    "        os.mkdir(pathName)\n",
    "    except FileExistsError:\n",
    "        pass\n",
    "    if us_video.isOpened() == False:\n",
    "        print('Ошибка открытия файла')\n",
    "    else:\n",
    "        pass\n",
    "        while(us_video.isOpened()):\n",
    "            ret, frame = us_video.read()\n",
    "            if ret == True and file_count <= counter:\n",
    "                file_count += 1\n",
    "                key = cv2.waitKey(1)\n",
    "                fname = f'usVid_{file_count:0004}.png'\n",
    "                direct = pathName+'\\\\'+ fname\n",
    "                cv2.imwrite(direct, frame)\n",
    "            else:\n",
    "                break\n",
    "    us_video.release()\n",
    "    cv2.destroyAllWindows()"
   ]
  },
  {
   "cell_type": "code",
   "execution_count": 5,
   "id": "5577637c",
   "metadata": {},
   "outputs": [
    {
     "data": {
      "text/plain": [
       "\"passName = 'image_sequence4'\\nvideoName = 'Сагайдачный2003.mkv'\\nCount = 50\\nFrameSave(Count, passName, videoName)\""
      ]
     },
     "execution_count": 5,
     "metadata": {},
     "output_type": "execute_result"
    }
   ],
   "source": [
    "# Пример взаимодействия с функцией FrameSave \n",
    "passName = 'image_sequence5'\n",
    "videoName = 'Сагайдачный2003.mkv'\n",
    "Count = 50\n",
    "FrameSave(Count, passName, videoName)"
   ]
  },
  {
   "cell_type": "markdown",
   "id": "747a4f3b",
   "metadata": {},
   "source": [
    "Обработка видеофайла целиком не является оптимальным. \n",
    "Главной задачей обработки длительных ультразвуковых данных является поиск параметров избражения, которые однозначно позволят различить два уникальных изображения и провести оцифровку всей записи.\n",
    "\n",
    "На первом изображении представлен участок ультразвуковой записи на котором белой рамкой отмечен маркер обновления экрана. Пока этот маркер на экране, изображение не может считаться уникальным, так как на нем остается информация о предыдущем уникальном кадре.\n",
    "\n",
    "<img src='usVid_0001.jpg' width=960, heigth=720>\n",
    "\n",
    "На втором представленном кадре отсутствует маркер обновления экрана, что позволяет нам выделить данный кадр как уникальный. Набор уникальных последовательных кадров позволит нам провести полную оцифровку экспериментального сигнала.\n",
    "\n",
    "<img src='usVid_0228.jpg' width=960, heigth=720>"
   ]
  },
  {
   "cell_type": "code",
   "execution_count": 6,
   "id": "692dfaa3",
   "metadata": {},
   "outputs": [],
   "source": [
    "#  Поиск уникальных кадров для проведения процедуры оцифровки\n",
    "#  Функция uniqueFrame позволит определить является ли кадр ультразвуковой записи уникальным\n",
    "# и хранит ли он значимую информациюю.\n",
    "#  На вход функция принимает адрес файла, на выходе она говорит Уникальный или Неуникальный\n",
    "\n",
    "def uniqueFrame(paht_in_loc):\n",
    "    pict = cv2.cvtColor(cv2.imread(paht_in_loc), cv2.COLOR_BGR2GRAY)\n",
    "    subIm1 = pict[450:710, 440:1614]\n",
    "    SubMin = np.min(subIm1[177, :])\n",
    "    SubSign = np.sign(SubMin-100)\n",
    "    if SubSign >= 0:\n",
    "        print('Это уникальный кадр')\n",
    "    else:\n",
    "        print('Это неуникальный кадр')\n"
   ]
  },
  {
   "cell_type": "code",
   "execution_count": 7,
   "id": "6367c23b",
   "metadata": {
    "scrolled": true
   },
   "outputs": [
    {
     "name": "stdout",
     "output_type": "stream",
     "text": [
      "Это неуникальный кадр\n"
     ]
    }
   ],
   "source": [
    "directionIn = \"image_sequence4\\\\usVid_0001.png\"\n",
    "uniqueFrame(directionIn)\n"
   ]
  },
  {
   "cell_type": "code",
   "execution_count": 8,
   "id": "ab90d7e0",
   "metadata": {},
   "outputs": [
    {
     "data": {
      "application/vnd.jupyter.widget-view+json": {
       "model_id": "0eeb608e3c0d4dcc83cf38e9afe81347",
       "version_major": 2,
       "version_minor": 0
      },
      "text/plain": [
       "Output(layout=Layout(border_bottom='1px solid black', border_left='1px solid black', border_right='1px solid b…"
      ]
     },
     "metadata": {},
     "output_type": "display_data"
    },
    {
     "data": {
      "application/vnd.jupyter.widget-view+json": {
       "model_id": "c02186f4baef41989fef29e34b21f440",
       "version_major": 2,
       "version_minor": 0
      },
      "text/plain": [
       "Button(description='Test Button', style=ButtonStyle())"
      ]
     },
     "metadata": {},
     "output_type": "display_data"
    },
    {
     "data": {
      "application/vnd.jupyter.widget-view+json": {
       "model_id": "f77f9bc41556421383be44549d71ad9b",
       "version_major": 2,
       "version_minor": 0
      },
      "text/plain": [
       "IntText(value=100, description='Порог:')"
      ]
     },
     "metadata": {},
     "output_type": "display_data"
    }
   ],
   "source": [
    "# Реализация алгоритма постороения оцифрованного сигнала\n",
    "\n",
    "nameUniqueWindow = \"image_sequence_unique\\\\usVid_0225.jpg\" # Анализируемое изображение\n",
    "UniqueWindow  = cv2.cvtColor(cv2.imread(nameUniqueWindow), cv2.COLOR_BGR2GRAY)\n",
    "subImage = UniqueWindow[450:710, 440:1614] # Границы в которые укладывается экспериментальный сигнал во всех уникальных кадрах\n",
    "\n",
    "# Функция, реализующая алгоритм оцифровки экспериментального сигнала.\n",
    "# На вход принимается изображение и порог для фильтрации, на выходе формируется оцифрованная кривая.\n",
    "%matplotlib widget\n",
    "def CifrGrapfWoP(data_loc, lEdit_loc):\n",
    "    Thresh = int(lEdit_loc) # Ожидаемый порог по яркости, отделяющий спетр от фона\n",
    "    Graph = data_loc[:] # Переменная содержащяя изображение как двумерный массив\n",
    "    TGraph = np.transpose(Graph) # Переменная содержащяя изображение как двумерный массив в транспонированном виде\n",
    "    N = [] # Создание массива огибающей максимума\n",
    "    M = [] # Создание массива огибающей минимума\n",
    "    F = 0 #\n",
    "    V = 0 #\n",
    "    for i in range(len(TGraph)):\n",
    "        for j in range(len(Graph)):\n",
    "            if Graph[j, i] > Thresh:\n",
    "                F = j\n",
    "                break\n",
    "        N.append(F * -1)\n",
    "    MaxR = len(Graph)-1\n",
    "    for i in range(len(TGraph)):\n",
    "        for j in range(len(Graph)):\n",
    "            if Graph[MaxR - j, i] > Thresh:\n",
    "                V = j\n",
    "                break\n",
    "        M.append((MaxR - V) * -1)\n",
    "    Top = np.asarray(N)\n",
    "    Bot = np.asarray(M)\n",
    "    Result = Top + Bot\n",
    "    return Result\n",
    "\n",
    "# Функция связывающая нажатие кнопки и выполнение кода\n",
    "def clicked(arg):\n",
    "    with out:\n",
    "        out.clear_output()\n",
    "        CifrMass = CifrGrapfWoP(subImage, text_widget.value)\n",
    "        fig = plt.figure(figsize=(10, 3))\n",
    "        ax = fig.add_subplot(1,2,1)\n",
    "        ax.set_title(\"Ультразвуковой спектр\", size = 10)\n",
    "        ax.imshow(subImage, cmap = 'gray', aspect='auto')\n",
    "        ax = fig.add_subplot(1,2,2)\n",
    "        ax.set_title(f\"Оцифровка с порогом  {text_widget.value} точек\", size = 10)\n",
    "        ax.plot(CifrMass)\n",
    "        plt.show()\n",
    "        print(f'Порог оцифровки равен {text_widget.value}')\n",
    "           \n",
    "out = widgets.Output(layout={'border': '1px solid black'})\n",
    "display(out)\n",
    "button = widgets.Button(description = 'Test Button')   \n",
    "button.on_click(clicked)\n",
    "text_widget = widgets.IntText(\n",
    "    value=100,\n",
    "    description='Порог:',\n",
    "    disabled=False\n",
    ")\n",
    "display(button, text_widget)\n",
    "\n",
    "#Попробуйте найти значение порога, при котором получится наилучшая оцифрованная кривая"
   ]
  },
  {
   "cell_type": "markdown",
   "id": "940a7d36",
   "metadata": {},
   "source": [
    "# Задания ко второй лабораторной работе.\n",
    "\n",
    "1. Сохранить экспериментальную видеозапись как набор 600 кадров c использованием функции FrameSave;\n",
    "2. Применить функцию UniqueFrame для определения уникальности кадра ко всему массиву кадрированной экспериментальной записи и реализуйте аналогично функции FrameSave операцию сохранения уникальных кадров;\n",
    "3. Оцифровать все уникальные кадры, применив функцию CifrGrapfWoP в цикле, и получить единую кривую;\n",
    "4. Сформировать экспериметальную оцифрованную запись максимальной скорости с сохранением исходных скоростных параметров (осуществить масштабирование амплитуды сигнала);\n",
    "5. Определить максимумы и минимумы записи."
   ]
  },
  {
   "cell_type": "code",
   "execution_count": null,
   "id": "84c5b6ad",
   "metadata": {},
   "outputs": [],
   "source": []
  }
 ],
 "metadata": {
  "kernelspec": {
   "display_name": "Python 3 (ipykernel)",
   "language": "python",
   "name": "python3"
  },
  "language_info": {
   "codemirror_mode": {
    "name": "ipython",
    "version": 3
   },
   "file_extension": ".py",
   "mimetype": "text/x-python",
   "name": "python",
   "nbconvert_exporter": "python",
   "pygments_lexer": "ipython3",
   "version": "3.10.8"
  }
 },
 "nbformat": 4,
 "nbformat_minor": 5
}
